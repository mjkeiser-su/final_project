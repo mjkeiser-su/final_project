{
 "cells": [
  {
   "cell_type": "code",
   "execution_count": 25,
   "metadata": {
    "collapsed": false
   },
   "outputs": [],
   "source": [
    "import requests\n",
    "from bs4 import BeautifulSoup"
   ]
  },
  {
   "cell_type": "code",
   "execution_count": 28,
   "metadata": {
    "collapsed": false
   },
   "outputs": [],
   "source": [
    "api = articleAPI('9fc692bb20284239beaf1e368b33ba47')\n",
    "from nytimesarticle import articleAPI"
   ]
  },
  {
   "cell_type": "code",
   "execution_count": 29,
   "metadata": {
    "collapsed": false
   },
   "outputs": [
    {
     "name": "stdout",
     "output_type": "stream",
     "text": [
      "Error retrieving https://api.nytimes.com/svc/archive/v1/2001/9.json\n"
     ]
    }
   ],
   "source": [
    "month = \"9\"\n",
    "year = \"2001\"\n",
    "url = 'https://api.nytimes.com/svc/archive/v1/' + year + \"/\" + month + \".json\"\n",
    "response = requests.get(url)\n",
    "if response.ok:\n",
    "    print (response.text)\n",
    "else:\n",
    "    print (\"Error retrieving \" + url)"
   ]
  },
  {
   "cell_type": "code",
   "execution_count": null,
   "metadata": {
    "collapsed": true
   },
   "outputs": [],
   "source": []
  }
 ],
 "metadata": {
  "anaconda-cloud": {},
  "kernelspec": {
   "display_name": "Python 3",
   "language": "python",
   "name": "python3"
  },
  "language_info": {
   "codemirror_mode": {
    "name": "ipython",
    "version": 3
   },
   "file_extension": ".py",
   "mimetype": "text/x-python",
   "name": "python",
   "nbconvert_exporter": "python",
   "pygments_lexer": "ipython3",
   "version": "3.5.2"
  }
 },
 "nbformat": 4,
 "nbformat_minor": 1
}
